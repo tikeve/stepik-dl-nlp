{
 "cells": [
  {
   "cell_type": "code",
   "execution_count": 1,
   "metadata": {},
   "outputs": [
    {
     "name": "stdout",
     "output_type": "stream",
     "text": [
      "1.3611111111111112\n",
      "0.7346938775510203\n",
      "0.18367346938775508\n",
      "0.08163265306122448\n"
     ]
    }
   ],
   "source": [
    "z = 0\n",
    "for i in range(1,4):\n",
    "    z += 1/i**2\n",
    "print(z)\n",
    "for i in range(1,4):\n",
    "    print(i**(-2)/z)"
   ]
  },
  {
   "cell_type": "code",
   "execution_count": 2,
   "metadata": {},
   "outputs": [
    {
     "name": "stdout",
     "output_type": "stream",
     "text": [
      "4.615220521841592\n",
      "1.3862943611198906\n",
      "0.8085580320712731\n",
      "0.8615658321849085\n"
     ]
    }
   ],
   "source": [
    "import math\n",
    "def BCE(a, b):\n",
    "    return - math.log(a) - math.log(b)\n",
    "print(BCE(0.99, 0.01))\n",
    "print(BCE(0.5, 0.5))\n",
    "print(BCE(0.99, 0.45))\n",
    "print(BCE(0.65, 0.65))"
   ]
  },
  {
   "cell_type": "code",
   "execution_count": 3,
   "metadata": {},
   "outputs": [
    {
     "name": "stdout",
     "output_type": "stream",
     "text": [
      "-0.0237129365887834\n"
     ]
    }
   ],
   "source": [
    "import sympy.parsing.sympy_parser\n",
    "\n",
    "#sample_expr_str = '-x*y*exp(-w*x-b)/(1+exp(-w*x-b))+x*(1 - y)'\n",
    "sample_expr_str = 'x/(1+exp(-w*x-b)) -x*y'\n",
    "sample_expr = sympy.parsing.sympy_parser.parse_expr(sample_expr_str)\n",
    "sample_value = sample_expr.evalf(subs=dict(x=0.5, y=1, w=4, b=1))\n",
    "print(sample_value)"
   ]
  },
  {
   "cell_type": "code",
   "execution_count": 4,
   "metadata": {},
   "outputs": [
    {
     "name": "stdout",
     "output_type": "stream",
     "text": [
      "7.97628706341122\n"
     ]
    }
   ],
   "source": [
    "import sympy.parsing.sympy_parser\n",
    "\n",
    "sample_expr_str = 'x*(1/(1+exp(-w*x-b)) - y) + 2*c*w'\n",
    "sample_expr = sympy.parsing.sympy_parser.parse_expr(sample_expr_str)\n",
    "sample_value = sample_expr.evalf(subs=dict(x=0.5, y=1, w=4, b=1, c=1))\n",
    "print(sample_value)"
   ]
  },
  {
   "cell_type": "code",
   "execution_count": 5,
   "metadata": {},
   "outputs": [
    {
     "name": "stdout",
     "output_type": "stream",
     "text": [
      "1.6439345666815615\n",
      "9975\n"
     ]
    }
   ],
   "source": [
    "s = 0\n",
    "for i in range(1, 1001):\n",
    "    s+=1/i**2\n",
    "i=1\n",
    "print(s)\n",
    "while True:\n",
    "    a = 1/i**2\n",
    "    if (1/i**2)/s < 0.001:\n",
    "        print(10000 - i)\n",
    "        break\n",
    "    i+=1"
   ]
  },
  {
   "cell_type": "code",
   "execution_count": 13,
   "metadata": {},
   "outputs": [
    {
     "name": "stdout",
     "output_type": "stream",
     "text": [
      "['-1', '-.15', '=', '-1.15']\n"
     ]
    }
   ],
   "source": [
    "import re\n",
    "import numpy as np\n",
    "import pandas as pd\n",
    "str1 = 'Контактный телефон: 123123.'\n",
    "str2 = 'Что-нибудь надо придумать.'\n",
    "str3 = 'Значение числа Е=2.7182.'\n",
    "str4 = 'Демон123, как тебя зовут в реале?'\n",
    "str5 = '-1-.15=-1.15'\n",
    "str6 = '- 1 - .15 = -1.15'\n",
    "str7 = 'Какого ;%:?* тут происходит?'\n",
    "\n",
    "tokenize_regex = re.compile(r'([а-яё]+|-?\\d*[.,]?\\d+|\\S)', re.I)\n",
    "\n",
    "tokens = tokenize_regex.findall(str5)\n",
    "\n",
    "print(tokens)"
   ]
  },
  {
   "cell_type": "code",
   "execution_count": 14,
   "metadata": {},
   "outputs": [
    {
     "name": "stdout",
     "output_type": "stream",
     "text": [
      "['казнить', 'нельзя', 'помиловать', 'нельзя', 'наказывать']\n",
      "0.5 0.25 0.75 0.25 0.75 0.25 0.5\n",
      "[['казнить', 0.5], ['не', 0.25], ['помиловать', 0.75], ['наказывать', 0.25], ['нельзя', 0.75], ['обязательно', 0.25], ['освободить', 0.5]]\n",
      "наказывать не обязательно казнить освободить нельзя помиловать\n",
      "0.25 0.25 0.25 0.5 0.5 0.75 0.75\n"
     ]
    }
   ],
   "source": [
    "str1 = \"Казнить нельзя, помиловать. Нельзя наказывать.\".lower()\n",
    "\n",
    "str2 = \"Казнить, нельзя помиловать. Нельзя освободить.\".lower()\n",
    "\n",
    "str3 = \"Нельзя не помиловать.\".lower()\n",
    "\n",
    "str4 = \"Обязательно освободить.\".lower()\n",
    "\n",
    "tokenize_regex = re.compile(r'([\\w\\d]+)', re.I)\n",
    "\n",
    "tokens = tokenize_regex.findall(str1)\n",
    "\n",
    "print(tokens)\n",
    "\n",
    "a = []\n",
    "b = []\n",
    "\n",
    "for i in [str1, str2, str3, str4]:\n",
    "    a.append(tokenize_regex.findall(i))\n",
    "    b += tokenize_regex.findall(i)\n",
    "a\n",
    "b\n",
    "\n",
    "b_dict = {x:b.count(x) for x in set(b)}\n",
    "b_list = [[x,b.count(x)] for x in set(b)]\n",
    "\n",
    "DF = []\n",
    "for j in b_list:\n",
    "    #print(j)\n",
    "    counter = 0\n",
    "    for i in a:\n",
    "        #print(j[0])\n",
    "        if j[0] in i:\n",
    "            counter += 1\n",
    "    DF.append(str(counter/4))\n",
    "    j[1] = counter/4\n",
    "print(' '.join(DF))\n",
    "\n",
    "print(b_list)\n",
    "\n",
    "s_b = sorted(b_list,\n",
    "                 reverse = False,\n",
    "                 key=lambda pair: (pair[1], pair[0]))\n",
    "s_b\n",
    "print(' '.join([x[0] for x in s_b]))\n",
    "print(' '.join([str(x[1]) for x in s_b]))\n",
    "\n",
    "# sorted_b = sorted(b_dict.items(),\n",
    "#                  reverse = False,\n",
    "#                  key=lambda pair: (pair[1], pair[0]))\n",
    "# print(' '.join([sorted_b[i][0] for i in range(len(sorted_b))]))\n",
    "\n",
    "# DF = []\n",
    "# for j in sorted_b:\n",
    "#     counter = 0\n",
    "#     for i in a:\n",
    "#         #print(j[0])\n",
    "#         if j[0] in i:\n",
    "#             counter += 1\n",
    "#     DF.append(str(counter/4))\n",
    "#     #print(counter/4)\n",
    "# ' '.join(DF)"
   ]
  },
  {
   "cell_type": "code",
   "execution_count": 16,
   "metadata": {},
   "outputs": [
    {
     "name": "stdout",
     "output_type": "stream",
     "text": [
      "IDF: [4.         4.         4.         2.         2.         1.33333333\n",
      " 1.33333333]\n"
     ]
    }
   ],
   "source": [
    "IDF = 1/np.array([x[1] for x in s_b])\n",
    "print(f'IDF: {IDF}')"
   ]
  },
  {
   "cell_type": "code",
   "execution_count": 22,
   "metadata": {},
   "outputs": [
    {
     "data": {
      "text/html": [
       "<div>\n",
       "<style scoped>\n",
       "    .dataframe tbody tr th:only-of-type {\n",
       "        vertical-align: middle;\n",
       "    }\n",
       "\n",
       "    .dataframe tbody tr th {\n",
       "        vertical-align: top;\n",
       "    }\n",
       "\n",
       "    .dataframe thead th {\n",
       "        text-align: right;\n",
       "    }\n",
       "</style>\n",
       "<table border=\"1\" class=\"dataframe\">\n",
       "  <thead>\n",
       "    <tr style=\"text-align: right;\">\n",
       "      <th></th>\n",
       "      <th>0</th>\n",
       "      <th>1</th>\n",
       "      <th>2</th>\n",
       "      <th>3</th>\n",
       "    </tr>\n",
       "  </thead>\n",
       "  <tbody>\n",
       "    <tr>\n",
       "      <th>0</th>\n",
       "      <td>0.2</td>\n",
       "      <td>0.0</td>\n",
       "      <td>0.000000</td>\n",
       "      <td>0.0</td>\n",
       "    </tr>\n",
       "    <tr>\n",
       "      <th>1</th>\n",
       "      <td>0.0</td>\n",
       "      <td>0.0</td>\n",
       "      <td>0.333333</td>\n",
       "      <td>0.0</td>\n",
       "    </tr>\n",
       "    <tr>\n",
       "      <th>2</th>\n",
       "      <td>0.0</td>\n",
       "      <td>0.0</td>\n",
       "      <td>0.000000</td>\n",
       "      <td>0.5</td>\n",
       "    </tr>\n",
       "    <tr>\n",
       "      <th>3</th>\n",
       "      <td>0.2</td>\n",
       "      <td>0.2</td>\n",
       "      <td>0.000000</td>\n",
       "      <td>0.0</td>\n",
       "    </tr>\n",
       "    <tr>\n",
       "      <th>4</th>\n",
       "      <td>0.0</td>\n",
       "      <td>0.2</td>\n",
       "      <td>0.000000</td>\n",
       "      <td>0.5</td>\n",
       "    </tr>\n",
       "    <tr>\n",
       "      <th>5</th>\n",
       "      <td>0.4</td>\n",
       "      <td>0.4</td>\n",
       "      <td>0.333333</td>\n",
       "      <td>0.0</td>\n",
       "    </tr>\n",
       "    <tr>\n",
       "      <th>6</th>\n",
       "      <td>0.2</td>\n",
       "      <td>0.2</td>\n",
       "      <td>0.333333</td>\n",
       "      <td>0.0</td>\n",
       "    </tr>\n",
       "  </tbody>\n",
       "</table>\n",
       "</div>"
      ],
      "text/plain": [
       "     0    1         2    3\n",
       "0  0.2  0.0  0.000000  0.0\n",
       "1  0.0  0.0  0.333333  0.0\n",
       "2  0.0  0.0  0.000000  0.5\n",
       "3  0.2  0.2  0.000000  0.0\n",
       "4  0.0  0.2  0.000000  0.5\n",
       "5  0.4  0.4  0.333333  0.0\n",
       "6  0.2  0.2  0.333333  0.0"
      ]
     },
     "execution_count": 22,
     "metadata": {},
     "output_type": "execute_result"
    }
   ],
   "source": [
    "TF = pd.DataFrame()\n",
    "for i in range(len(a)):\n",
    "    TF[i] = [a[i].count(s_b[j][0])/len(a[i]) for j in range(len(s_b)) ]\n",
    "TF"
   ]
  },
  {
   "cell_type": "code",
   "execution_count": 21,
   "metadata": {},
   "outputs": [
    {
     "data": {
      "text/plain": [
       "[['казнить', 'нельзя', 'помиловать', 'нельзя', 'наказывать'],\n",
       " ['казнить', 'нельзя', 'помиловать', 'нельзя', 'освободить'],\n",
       " ['нельзя', 'не', 'помиловать'],\n",
       " ['обязательно', 'освободить']]"
      ]
     },
     "execution_count": 21,
     "metadata": {},
     "output_type": "execute_result"
    }
   ],
   "source": [
    "a"
   ]
  },
  {
   "cell_type": "code",
   "execution_count": 34,
   "metadata": {},
   "outputs": [
    {
     "data": {
      "text/html": [
       "<div>\n",
       "<style scoped>\n",
       "    .dataframe tbody tr th:only-of-type {\n",
       "        vertical-align: middle;\n",
       "    }\n",
       "\n",
       "    .dataframe tbody tr th {\n",
       "        vertical-align: top;\n",
       "    }\n",
       "\n",
       "    .dataframe thead th {\n",
       "        text-align: right;\n",
       "    }\n",
       "</style>\n",
       "<table border=\"1\" class=\"dataframe\">\n",
       "  <thead>\n",
       "    <tr style=\"text-align: right;\">\n",
       "      <th></th>\n",
       "      <th>0</th>\n",
       "      <th>1</th>\n",
       "      <th>2</th>\n",
       "      <th>3</th>\n",
       "      <th>4</th>\n",
       "      <th>5</th>\n",
       "      <th>6</th>\n",
       "    </tr>\n",
       "  </thead>\n",
       "  <tbody>\n",
       "    <tr>\n",
       "      <th>0</th>\n",
       "      <td>0.729286</td>\n",
       "      <td>0.000000</td>\n",
       "      <td>0.00000</td>\n",
       "      <td>0.364643</td>\n",
       "      <td>0.000000</td>\n",
       "      <td>0.448630</td>\n",
       "      <td>0.243095</td>\n",
       "    </tr>\n",
       "    <tr>\n",
       "      <th>1</th>\n",
       "      <td>0.000000</td>\n",
       "      <td>0.000000</td>\n",
       "      <td>0.00000</td>\n",
       "      <td>0.364643</td>\n",
       "      <td>0.364643</td>\n",
       "      <td>0.448630</td>\n",
       "      <td>0.243095</td>\n",
       "    </tr>\n",
       "    <tr>\n",
       "      <th>2</th>\n",
       "      <td>0.000000</td>\n",
       "      <td>1.150728</td>\n",
       "      <td>0.00000</td>\n",
       "      <td>0.000000</td>\n",
       "      <td>0.000000</td>\n",
       "      <td>0.383576</td>\n",
       "      <td>0.383576</td>\n",
       "    </tr>\n",
       "    <tr>\n",
       "      <th>3</th>\n",
       "      <td>0.000000</td>\n",
       "      <td>0.000000</td>\n",
       "      <td>1.62186</td>\n",
       "      <td>0.000000</td>\n",
       "      <td>0.810930</td>\n",
       "      <td>0.000000</td>\n",
       "      <td>0.000000</td>\n",
       "    </tr>\n",
       "  </tbody>\n",
       "</table>\n",
       "</div>"
      ],
      "text/plain": [
       "          0         1        2         3         4         5         6\n",
       "0  0.729286  0.000000  0.00000  0.364643  0.000000  0.448630  0.243095\n",
       "1  0.000000  0.000000  0.00000  0.364643  0.364643  0.448630  0.243095\n",
       "2  0.000000  1.150728  0.00000  0.000000  0.000000  0.383576  0.383576\n",
       "3  0.000000  0.000000  1.62186  0.000000  0.810930  0.000000  0.000000"
      ]
     },
     "execution_count": 34,
     "metadata": {},
     "output_type": "execute_result"
    }
   ],
   "source": [
    "TFT = np.log(TF.transpose()+1)*IDF\n",
    "TFT"
   ]
  },
  {
   "cell_type": "code",
   "execution_count": 44,
   "metadata": {},
   "outputs": [
    {
     "data": {
      "text/html": [
       "<div>\n",
       "<style scoped>\n",
       "    .dataframe tbody tr th:only-of-type {\n",
       "        vertical-align: middle;\n",
       "    }\n",
       "\n",
       "    .dataframe tbody tr th {\n",
       "        vertical-align: top;\n",
       "    }\n",
       "\n",
       "    .dataframe thead th {\n",
       "        text-align: right;\n",
       "    }\n",
       "</style>\n",
       "<table border=\"1\" class=\"dataframe\">\n",
       "  <thead>\n",
       "    <tr style=\"text-align: right;\">\n",
       "      <th></th>\n",
       "      <th>0</th>\n",
       "      <th>1</th>\n",
       "      <th>2</th>\n",
       "      <th>3</th>\n",
       "      <th>4</th>\n",
       "      <th>5</th>\n",
       "      <th>6</th>\n",
       "    </tr>\n",
       "  </thead>\n",
       "  <tbody>\n",
       "    <tr>\n",
       "      <th>0</th>\n",
       "      <td>1.5</td>\n",
       "      <td>-0.5</td>\n",
       "      <td>-0.5</td>\n",
       "      <td>0.866025</td>\n",
       "      <td>-0.763013</td>\n",
       "      <td>0.595467</td>\n",
       "      <td>0.160968</td>\n",
       "    </tr>\n",
       "    <tr>\n",
       "      <th>1</th>\n",
       "      <td>-0.5</td>\n",
       "      <td>-0.5</td>\n",
       "      <td>-0.5</td>\n",
       "      <td>0.866025</td>\n",
       "      <td>0.183682</td>\n",
       "      <td>0.595467</td>\n",
       "      <td>0.160968</td>\n",
       "    </tr>\n",
       "    <tr>\n",
       "      <th>2</th>\n",
       "      <td>-0.5</td>\n",
       "      <td>1.5</td>\n",
       "      <td>-0.5</td>\n",
       "      <td>-0.866025</td>\n",
       "      <td>-0.763013</td>\n",
       "      <td>0.293824</td>\n",
       "      <td>1.042435</td>\n",
       "    </tr>\n",
       "    <tr>\n",
       "      <th>3</th>\n",
       "      <td>-0.5</td>\n",
       "      <td>-0.5</td>\n",
       "      <td>1.5</td>\n",
       "      <td>-0.866025</td>\n",
       "      <td>1.342343</td>\n",
       "      <td>-1.484758</td>\n",
       "      <td>-1.364371</td>\n",
       "    </tr>\n",
       "  </tbody>\n",
       "</table>\n",
       "</div>"
      ],
      "text/plain": [
       "     0    1    2         3         4         5         6\n",
       "0  1.5 -0.5 -0.5  0.866025 -0.763013  0.595467  0.160968\n",
       "1 -0.5 -0.5 -0.5  0.866025  0.183682  0.595467  0.160968\n",
       "2 -0.5  1.5 -0.5 -0.866025 -0.763013  0.293824  1.042435\n",
       "3 -0.5 -0.5  1.5 -0.866025  1.342343 -1.484758 -1.364371"
      ]
     },
     "execution_count": 44,
     "metadata": {},
     "output_type": "execute_result"
    }
   ],
   "source": [
    "NTFIDF = (TFT - TFT.mean())/TFT.std(ddof=1)\n",
    "NTFIDF"
   ]
  },
  {
   "cell_type": "code",
   "execution_count": 56,
   "metadata": {},
   "outputs": [
    {
     "name": "stdout",
     "output_type": "stream",
     "text": [
      "0         1 . 5 0 0 0 0 0 \n",
      " 1       - 0 . 5 0 0 0 0 0 \n",
      " 2       - 0 . 5 0 0 0 0 0 \n",
      " 3         0 . 8 6 6 0 2 5 \n",
      " 4       - 0 . 7 6 3 0 1 3 \n",
      " 5         0 . 5 9 5 4 6 7 \n",
      " 6         0 . 1 6 0 9 6 8 \n",
      " N a m e :   0 ,   d t y p e :   f l o a t 6 4\n",
      "0       - 0 . 5 0 0 0 0 0 \n",
      " 1       - 0 . 5 0 0 0 0 0 \n",
      " 2       - 0 . 5 0 0 0 0 0 \n",
      " 3         0 . 8 6 6 0 2 5 \n",
      " 4         0 . 1 8 3 6 8 2 \n",
      " 5         0 . 5 9 5 4 6 7 \n",
      " 6         0 . 1 6 0 9 6 8 \n",
      " N a m e :   1 ,   d t y p e :   f l o a t 6 4\n",
      "0       - 0 . 5 0 0 0 0 0 \n",
      " 1         1 . 5 0 0 0 0 0 \n",
      " 2       - 0 . 5 0 0 0 0 0 \n",
      " 3       - 0 . 8 6 6 0 2 5 \n",
      " 4       - 0 . 7 6 3 0 1 3 \n",
      " 5         0 . 2 9 3 8 2 4 \n",
      " 6         1 . 0 4 2 4 3 5 \n",
      " N a m e :   2 ,   d t y p e :   f l o a t 6 4\n",
      "0       - 0 . 5 0 0 0 0 0 \n",
      " 1       - 0 . 5 0 0 0 0 0 \n",
      " 2         1 . 5 0 0 0 0 0 \n",
      " 3       - 0 . 8 6 6 0 2 5 \n",
      " 4         1 . 3 4 2 3 4 3 \n",
      " 5       - 1 . 4 8 4 7 5 8 \n",
      " 6       - 1 . 3 6 4 3 7 1 \n",
      " N a m e :   3 ,   d t y p e :   f l o a t 6 4\n"
     ]
    }
   ],
   "source": [
    "def pan_spaces\n",
    "for i in NTFIDF.index:\n",
    "    print(' '.join(list(str(NTFIDF.loc[i,:]))))"
   ]
  },
  {
   "cell_type": "code",
   "execution_count": 39,
   "metadata": {},
   "outputs": [
    {
     "data": {
      "text/plain": [
       "[['наказывать', 0.25],\n",
       " ['не', 0.25],\n",
       " ['обязательно', 0.25],\n",
       " ['казнить', 0.5],\n",
       " ['освободить', 0.5],\n",
       " ['нельзя', 0.75],\n",
       " ['помиловать', 0.75]]"
      ]
     },
     "execution_count": 39,
     "metadata": {},
     "output_type": "execute_result"
    }
   ],
   "source": [
    "s_b"
   ]
  },
  {
   "cell_type": "code",
   "execution_count": 49,
   "metadata": {},
   "outputs": [
    {
     "data": {
      "text/plain": [
       "0    1.500000\n",
       "1   -0.500000\n",
       "2   -0.500000\n",
       "3    0.866025\n",
       "4   -0.763013\n",
       "5    0.595467\n",
       "6    0.160968\n",
       "Name: 0, dtype: float64"
      ]
     },
     "execution_count": 49,
     "metadata": {},
     "output_type": "execute_result"
    }
   ],
   "source": [
    "NTFIDF.loc[i,:]"
   ]
  },
  {
   "cell_type": "code",
   "execution_count": 76,
   "metadata": {},
   "outputs": [
    {
     "name": "stdout",
     "output_type": "stream",
     "text": [
      "1.5 -0.5 -0.5 0.8660254037844386 -0.7630125578876946 0.5954669471484166 0.1609678767201035 \n",
      "-0.5 -0.5 -0.5 0.8660254037844386 0.18368219185173848 0.5954669471484166 0.1609678767201035 \n",
      "-0.5 1.5 -0.5 -0.8660254037844386 -0.7630125578876946 0.29382391061831536 1.0424350837750262 \n",
      "-0.5 -0.5 1.5 -0.8660254037844386 1.3423429239236508 -1.4847578049151486 -1.3643708372152332 \n"
     ]
    }
   ],
   "source": [
    "for i in NTFIDF.index:\n",
    "    for v in NTFIDF.loc[i,:]:\n",
    "        print(v, end=' ')\n",
    "    print()"
   ]
  },
  {
   "cell_type": "code",
   "execution_count": null,
   "metadata": {},
   "outputs": [],
   "source": []
  }
 ],
 "metadata": {
  "kernelspec": {
   "display_name": "Python 3 (ipykernel)",
   "language": "python",
   "name": "python3"
  },
  "language_info": {
   "codemirror_mode": {
    "name": "ipython",
    "version": 3
   },
   "file_extension": ".py",
   "mimetype": "text/x-python",
   "name": "python",
   "nbconvert_exporter": "python",
   "pygments_lexer": "ipython3",
   "version": "3.9.12"
  }
 },
 "nbformat": 4,
 "nbformat_minor": 4
}
